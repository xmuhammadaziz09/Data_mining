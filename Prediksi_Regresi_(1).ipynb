{
  "nbformat": 4,
  "nbformat_minor": 0,
  "metadata": {
    "colab": {
      "provenance": [],
      "include_colab_link": true
    },
    "kernelspec": {
      "name": "python3",
      "display_name": "Python 3"
    },
    "language_info": {
      "name": "python"
    }
  },
  "cells": [
    {
      "cell_type": "markdown",
      "metadata": {
        "id": "view-in-github",
        "colab_type": "text"
      },
      "source": [
        "<a href=\"https://colab.research.google.com/github/xmuhammadaziz09/Data_mining/blob/main/Prediksi_Regresi_(1).ipynb\" target=\"_parent\"><img src=\"https://colab.research.google.com/assets/colab-badge.svg\" alt=\"Open In Colab\"/></a>"
      ]
    },
    {
      "cell_type": "code",
      "source": [
        "pip install xgboost scikit-learn"
      ],
      "metadata": {
        "colab": {
          "base_uri": "https://localhost:8080/"
        },
        "id": "qyq8t1mPspmY",
        "outputId": "a063478d-33a7-4fd7-e45c-dd264af560d9"
      },
      "execution_count": 6,
      "outputs": [
        {
          "output_type": "stream",
          "name": "stdout",
          "text": [
            "Requirement already satisfied: xgboost in /usr/local/lib/python3.11/dist-packages (2.1.4)\n",
            "Requirement already satisfied: scikit-learn in /usr/local/lib/python3.11/dist-packages (1.6.1)\n",
            "Requirement already satisfied: numpy in /usr/local/lib/python3.11/dist-packages (from xgboost) (2.0.2)\n",
            "Requirement already satisfied: nvidia-nccl-cu12 in /usr/local/lib/python3.11/dist-packages (from xgboost) (2.21.5)\n",
            "Requirement already satisfied: scipy in /usr/local/lib/python3.11/dist-packages (from xgboost) (1.15.3)\n",
            "Requirement already satisfied: joblib>=1.2.0 in /usr/local/lib/python3.11/dist-packages (from scikit-learn) (1.5.1)\n",
            "Requirement already satisfied: threadpoolctl>=3.1.0 in /usr/local/lib/python3.11/dist-packages (from scikit-learn) (3.6.0)\n"
          ]
        }
      ]
    },
    {
      "cell_type": "code",
      "execution_count": 7,
      "metadata": {
        "id": "e2eGpVYZn627"
      },
      "outputs": [],
      "source": [
        "import pandas as pd\n",
        "from sklearn.model_selection import train_test_split\n",
        "from sklearn.preprocessing import LabelEncoder\n",
        "from sklearn.metrics import mean_squared_error, r2_score\n",
        "\n",
        "# Regressor models\n",
        "from sklearn.linear_model import LinearRegression\n",
        "from sklearn.ensemble import RandomForestRegressor\n",
        "from sklearn.svm import SVR\n",
        "from sklearn.neighbors import KNeighborsRegressor\n",
        "from sklearn.neural_network import MLPRegressor\n",
        "from xgboost import XGBRegressor\n",
        "\n",
        "import matplotlib.pyplot as plt\n",
        "import seaborn as sns\n",
        "\n",
        "from sklearn.metrics import mean_absolute_error\n",
        "import numpy as np"
      ]
    },
    {
      "cell_type": "code",
      "source": [
        "from google.colab import drive\n",
        "drive.mount('/content/drive')"
      ],
      "metadata": {
        "colab": {
          "base_uri": "https://localhost:8080/"
        },
        "id": "OkVCBT8HoBAa",
        "outputId": "649c2b60-62bc-4f1e-a242-21b1ad0f7e63"
      },
      "execution_count": 8,
      "outputs": [
        {
          "output_type": "stream",
          "name": "stdout",
          "text": [
            "Drive already mounted at /content/drive; to attempt to forcibly remount, call drive.mount(\"/content/drive\", force_remount=True).\n"
          ]
        }
      ]
    },
    {
      "cell_type": "code",
      "source": [
        "# Ganti path di bawah dengan path ke file kamu\n",
        "file_path = '//content/drive/MyDrive/tes.csv'\n",
        "\n",
        "df = pd.read_csv(file_path)\n",
        "print(df.head())  # opsional, tampilkan 5 data pertama"
      ],
      "metadata": {
        "colab": {
          "base_uri": "https://localhost:8080/"
        },
        "id": "epDB6lZboA6D",
        "outputId": "14892f51-347b-48b1-91c3-63b9542752d2"
      },
      "execution_count": 9,
      "outputs": [
        {
          "output_type": "stream",
          "name": "stdout",
          "text": [
            "   ID  A1_Score  A2_Score  A3_Score  A4_Score  A5_Score  A6_Score  A7_Score  \\\n",
            "0   1         1         1         0         0         1         1         0   \n",
            "1   2         1         0         0         0         0         0         0   \n",
            "2   3         1         1         1         0         1         1         0   \n",
            "3   4         0         0         0         0         0         0         0   \n",
            "4   5         0         0         0         1         0         0         0   \n",
            "\n",
            "   A8_Score  A9_Score  ...        age  gender       ethnicity jaundice austim  \\\n",
            "0         0         1  ...  15.599481       m  White-European      yes     no   \n",
            "1         1         0  ...  27.181099       m           Asian       no     no   \n",
            "2         1         1  ...  31.643906       m  White-European      yes     no   \n",
            "3         0         0  ...  25.369210       m               ?       no     no   \n",
            "4         0         0  ...   9.078580       m               ?       no     no   \n",
            "\n",
            "  contry_of_res used_app_before     result     age_desc relation  \n",
            "0         India              no  12.399055  18 and more     Self  \n",
            "1        Mexico              no   6.551598  18 and more     Self  \n",
            "2         Egypt              no   3.180663  18 and more     Self  \n",
            "3         India              no   2.220766  18 and more     Self  \n",
            "4         Italy              no   7.252028  18 and more     Self  \n",
            "\n",
            "[5 rows x 21 columns]\n"
          ]
        }
      ]
    },
    {
      "cell_type": "code",
      "source": [
        "df_reg = df.drop(columns=[\"ID\", \"age_desc\", \"relation\"])  # kita prediksi kolom 'result'\n",
        "\n",
        "# 3. Encode data kategorikal\n",
        "label_encoders = {}\n",
        "for column in df_reg.select_dtypes(include=['object']).columns:\n",
        "    le = LabelEncoder()\n",
        "    df_reg[column] = le.fit_transform(df_reg[column])\n",
        "    label_encoders[column] = le\n",
        "\n",
        "# 4. Pisahkan fitur dan target\n",
        "X = df_reg.drop(\"result\", axis=1)\n",
        "y = df_reg[\"result\"]\n",
        "\n",
        "# 5. Split train-test\n",
        "X_train, X_test, y_train, y_test = train_test_split(X, y, test_size=0.2, random_state=42)\n",
        "\n",
        "# 6. Inisialisasi semua model\n",
        "models = {\n",
        "    \"Random Forest\": RandomForestRegressor(n_estimators=100, random_state=42),\n",
        "    \"XGBoost\": XGBRegressor(n_estimators=100, learning_rate=0.1, random_state=42, verbosity=0),\n",
        "    \"MLP (Neural Network)\": MLPRegressor(hidden_layer_sizes=(100,), max_iter=1000, random_state=42)\n",
        "}\n"
      ],
      "metadata": {
        "id": "Lb5SqxazoAzZ"
      },
      "execution_count": 10,
      "outputs": []
    },
    {
      "cell_type": "code",
      "source": [
        "# Evaluasi tiap model\n",
        "results = {}\n",
        "for name, model in models.items():\n",
        "    model.fit(X_train, y_train)\n",
        "    y_pred = model.predict(X_test)\n",
        "\n",
        "    mse = mean_squared_error(y_test, y_pred)\n",
        "    rmse = np.sqrt(mse)\n",
        "    mae = mean_absolute_error(y_test, y_pred)\n",
        "    r2 = r2_score(y_test, y_pred)\n",
        "\n",
        "    results[name] = {\"MAE\": mae, \"MSE\": mse, \"RMSE\": rmse, \"R2\": r2}\n",
        "\n",
        "    print(f\"===== {name} =====\")\n",
        "    print(f\"MAE: {mae:.4f}\")\n",
        "    print(f\"MSE: {mse:.4f}\")\n",
        "    print(f\"RMSE: {rmse:.4f}\")\n",
        "    print(f\"R-squared: {r2:.4f} ({r2 * 100:.2f}%)\\n\")\n"
      ],
      "metadata": {
        "colab": {
          "base_uri": "https://localhost:8080/"
        },
        "id": "lECgC_lns-Qy",
        "outputId": "b67e2a3b-a8f2-4e1b-da0f-e5984dd82b22"
      },
      "execution_count": 11,
      "outputs": [
        {
          "output_type": "stream",
          "name": "stdout",
          "text": [
            "===== Random Forest =====\n",
            "MAE: 0.3967\n",
            "MSE: 0.9553\n",
            "RMSE: 0.9774\n",
            "R-squared: 0.9491 (94.91%)\n",
            "\n",
            "===== XGBoost =====\n",
            "MAE: 0.6100\n",
            "MSE: 1.2445\n",
            "RMSE: 1.1156\n",
            "R-squared: 0.9337 (93.37%)\n",
            "\n",
            "===== MLP (Neural Network) =====\n",
            "MAE: 2.1354\n",
            "MSE: 7.6914\n",
            "RMSE: 2.7733\n",
            "R-squared: 0.5905 (59.05%)\n",
            "\n"
          ]
        }
      ]
    },
    {
      "cell_type": "code",
      "source": [
        "# 8. Visualisasi R-squared semua model\n",
        "model_names = list(results.keys())\n",
        "r2_scores = [results[m][\"R2\"] for m in model_names]\n",
        "\n",
        "plt.figure(figsize=(10, 5))\n",
        "sns.barplot(x=model_names, y=r2_scores)\n",
        "plt.title(\"Perbandingan R-squared Antar Model Regressi\")\n",
        "plt.ylabel(\"R-squared\")\n",
        "plt.ylim(0, 1)\n",
        "plt.xticks(rotation=30)\n",
        "plt.tight_layout()\n",
        "plt.show()"
      ],
      "metadata": {
        "colab": {
          "base_uri": "https://localhost:8080/",
          "height": 507
        },
        "id": "M-VDqNbAs-9T",
        "outputId": "47a3001d-1c06-4862-d343-26bef51c338c"
      },
      "execution_count": 12,
      "outputs": [
        {
          "output_type": "display_data",
          "data": {
            "text/plain": [
              "<Figure size 1000x500 with 1 Axes>"
            ],
            "image/png": "[encoded data removed]"
          },
          "metadata": {}
        }
      ]
    }
  ]
}